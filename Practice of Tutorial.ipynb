{
 "cells": [
  {
   "cell_type": "markdown",
   "metadata": {},
   "source": [
    "## Introduction "
   ]
  },
  {
   "cell_type": "code",
   "execution_count": 49,
   "metadata": {},
   "outputs": [
    {
     "name": "stdout",
     "output_type": "stream",
     "text": [
      "['Hello', ' World']\n"
     ]
    }
   ],
   "source": [
    "a = 'Hello: World'\n",
    "print(a.split(':'))"
   ]
  },
  {
   "cell_type": "code",
   "execution_count": 50,
   "metadata": {},
   "outputs": [
    {
     "name": "stdout",
     "output_type": "stream",
     "text": [
      "el\n"
     ]
    }
   ],
   "source": [
    "print(a[1:3])"
   ]
  },
  {
   "cell_type": "code",
   "execution_count": 51,
   "metadata": {},
   "outputs": [
    {
     "name": "stdout",
     "output_type": "stream",
     "text": [
      "    hi Riken    \n",
      "hi Riken\n"
     ]
    }
   ],
   "source": [
    "b = '    hi Riken    '\n",
    "print(b)\n",
    "print(b.strip()) #removes prefix and postfix whitespaces\n"
   ]
  },
  {
   "cell_type": "code",
   "execution_count": 52,
   "metadata": {},
   "outputs": [
    {
     "name": "stdout",
     "output_type": "stream",
     "text": [
      "    Hi Riken    \n"
     ]
    }
   ],
   "source": [
    "print(b.replace('h', 'H'))"
   ]
  },
  {
   "cell_type": "code",
   "execution_count": 53,
   "metadata": {},
   "outputs": [
    {
     "name": "stdout",
     "output_type": "stream",
     "text": [
      "    hi riken    \n"
     ]
    }
   ],
   "source": [
    "print(b.lower())"
   ]
  },
  {
   "cell_type": "code",
   "execution_count": 54,
   "metadata": {},
   "outputs": [
    {
     "name": "stdout",
     "output_type": "stream",
     "text": [
      "    HI RIKEN    \n"
     ]
    }
   ],
   "source": [
    "print(b.upper())"
   ]
  },
  {
   "cell_type": "code",
   "execution_count": 55,
   "metadata": {},
   "outputs": [
    {
     "name": "stdout",
     "output_type": "stream",
     "text": [
      "0\n"
     ]
    }
   ],
   "source": [
    "print(b.count('I'))"
   ]
  },
  {
   "cell_type": "code",
   "execution_count": null,
   "metadata": {},
   "outputs": [],
   "source": []
  },
  {
   "cell_type": "code",
   "execution_count": 56,
   "metadata": {},
   "outputs": [
    {
     "name": "stdout",
     "output_type": "stream",
     "text": [
      "['1', '2', '3', '4', '5']\n",
      "5\n",
      "['1', '2', '0', '4', '5']\n",
      "['1', '2', '0', 'A', '4', '5']\n",
      "['1', '2', '0', 'A', '4', '5', '6']\n"
     ]
    }
   ],
   "source": [
    "list = ['1', '2','3','4','5']\n",
    "print(list)\n",
    "\n",
    "print(len(list))\n",
    "\n",
    "list[2] = '0'\n",
    "print(list)\n",
    "\n",
    "list.insert(3,'A')\n",
    "print(list)\n",
    "\n",
    "list.append('6')\n",
    "print(list)"
   ]
  },
  {
   "cell_type": "markdown",
   "metadata": {},
   "source": [
    "## Removing an element from the list "
   ]
  },
  {
   "cell_type": "code",
   "execution_count": 57,
   "metadata": {},
   "outputs": [
    {
     "name": "stdout",
     "output_type": "stream",
     "text": [
      "['1', '2', '3', '4', '5']\n"
     ]
    }
   ],
   "source": [
    "list = ['1', '2','3','4','5']\n",
    "list.clear\n",
    "print(list)"
   ]
  },
  {
   "cell_type": "code",
   "execution_count": 58,
   "metadata": {},
   "outputs": [
    {
     "name": "stdout",
     "output_type": "stream",
     "text": [
      "<class 'list'>\n"
     ]
    }
   ],
   "source": [
    "list = ['1', '2','3','4','5']\n",
    "del list\n",
    "print(list)"
   ]
  },
  {
   "cell_type": "code",
   "execution_count": 59,
   "metadata": {},
   "outputs": [
    {
     "name": "stdout",
     "output_type": "stream",
     "text": [
      "{'2'}\n"
     ]
    }
   ],
   "source": [
    "set = {'1','2'}\n",
    "set.remove('1')\n",
    "print(set)"
   ]
  },
  {
   "cell_type": "code",
   "execution_count": 60,
   "metadata": {},
   "outputs": [
    {
     "name": "stdout",
     "output_type": "stream",
     "text": [
      "set()\n"
     ]
    }
   ],
   "source": [
    "set.discard('2')\n",
    "print(set)"
   ]
  },
  {
   "cell_type": "code",
   "execution_count": 61,
   "metadata": {},
   "outputs": [
    {
     "name": "stdout",
     "output_type": "stream",
     "text": [
      "1\n",
      "{'2'}\n",
      "5\n",
      "['1', '2', '3', '4']\n"
     ]
    }
   ],
   "source": [
    "set = {'1','2'}\n",
    "ri = set.pop()\n",
    "print(ri)\n",
    "print(set)\n",
    "\n",
    "list = ['1', '2','3','4','5']\n",
    "ri2 = list.pop()\n",
    "print(ri2)\n",
    "print(list)"
   ]
  },
  {
   "cell_type": "markdown",
   "metadata": {},
   "source": [
    "## creating Dictionaries"
   ]
  },
  {
   "cell_type": "code",
   "execution_count": 62,
   "metadata": {},
   "outputs": [
    {
     "name": "stdout",
     "output_type": "stream",
     "text": [
      "{'Book': 'Life', 'language': 'English', 'Author': 'Savan', 'Year': '2022'}\n"
     ]
    }
   ],
   "source": [
    "dict = {\n",
    "    'Book':'Life',\n",
    "  'language': 'English',\n",
    "    'Author':'Savan',\n",
    "    'Year':'2022'\n",
    "}\n",
    "\n",
    "print(dict)"
   ]
  },
  {
   "cell_type": "code",
   "execution_count": 63,
   "metadata": {},
   "outputs": [
    {
     "name": "stdout",
     "output_type": "stream",
     "text": [
      "Life\n"
     ]
    }
   ],
   "source": [
    "# access the value using array\n",
    "\n",
    "print( dict['Book'] )\n"
   ]
  },
  {
   "cell_type": "code",
   "execution_count": 64,
   "metadata": {},
   "outputs": [
    {
     "name": "stdout",
     "output_type": "stream",
     "text": [
      "English\n"
     ]
    }
   ],
   "source": [
    "# access the value using get\n",
    "\n",
    "print(dict.get('language') )\n",
    "\n"
   ]
  },
  {
   "cell_type": "code",
   "execution_count": 65,
   "metadata": {},
   "outputs": [
    {
     "name": "stdout",
     "output_type": "stream",
     "text": [
      "{'Book': 'Life', 'language': 'English', 'Author': 'Savan', 'Year': '2021'}\n"
     ]
    }
   ],
   "source": [
    "# replace the value\n",
    "\n",
    "dict['Year'] = '2021'\n",
    "print(dict)"
   ]
  },
  {
   "cell_type": "code",
   "execution_count": 66,
   "metadata": {},
   "outputs": [
    {
     "name": "stdout",
     "output_type": "stream",
     "text": [
      "{'Book': 'Life', 'language': 'English', 'Author': 'Savan', 'Year': '2021', 'Type': 'Philosophy'}\n"
     ]
    }
   ],
   "source": [
    " # adding new feature\n",
    "    \n",
    "dict['Type'] = 'Philosophy'\n",
    "print(dict)"
   ]
  },
  {
   "cell_type": "code",
   "execution_count": 67,
   "metadata": {},
   "outputs": [
    {
     "name": "stdout",
     "output_type": "stream",
     "text": [
      "yes\n"
     ]
    }
   ],
   "source": [
    "# using condition\n",
    "\n",
    "if 'language' in dict:\n",
    "    print('yes')"
   ]
  },
  {
   "cell_type": "markdown",
   "metadata": {},
   "source": [
    "## Loop throgh Dictionary"
   ]
  },
  {
   "cell_type": "code",
   "execution_count": 68,
   "metadata": {},
   "outputs": [
    {
     "name": "stdout",
     "output_type": "stream",
     "text": [
      "{'Book': 'Life', 'language': 'English', 'Author': 'Savan', 'Year': '2022'}\n"
     ]
    }
   ],
   "source": [
    "# define dictionary\n",
    "\n",
    "dict = {\n",
    "    'Book':'Life',\n",
    "  'language': 'English',\n",
    "    'Author':'Savan',\n",
    "    'Year':'2022'\n",
    "}\n",
    "\n",
    "print(dict)\n"
   ]
  },
  {
   "cell_type": "code",
   "execution_count": 69,
   "metadata": {},
   "outputs": [
    {
     "name": "stdout",
     "output_type": "stream",
     "text": [
      "All the keys are as follows\n",
      "Book\n",
      "language\n",
      "Author\n",
      "Year\n"
     ]
    }
   ],
   "source": [
    "# print the keys\n",
    "\n",
    "print('All the keys are as follows')\n",
    "for x in dict:\n",
    "    print(x)\n",
    "    "
   ]
  },
  {
   "cell_type": "code",
   "execution_count": 70,
   "metadata": {},
   "outputs": [
    {
     "name": "stdout",
     "output_type": "stream",
     "text": [
      "All the values are as follows\n",
      "Life\n",
      "English\n",
      "Savan\n",
      "2022\n"
     ]
    }
   ],
   "source": [
    "# print the values\n",
    "\n",
    "print('All the values are as follows')\n",
    "for x in dict:\n",
    "    print(dict[x])\n",
    "    "
   ]
  },
  {
   "cell_type": "code",
   "execution_count": 71,
   "metadata": {},
   "outputs": [
    {
     "name": "stdout",
     "output_type": "stream",
     "text": [
      "All the values are as follows\n",
      "Life\n",
      "English\n",
      "Savan\n",
      "2022\n"
     ]
    }
   ],
   "source": [
    "# another method to print value\n",
    "\n",
    "print('All the values are as follows')\n",
    "for x in dict.values():\n",
    "    print(x)\n",
    "    \n",
    "    "
   ]
  },
  {
   "cell_type": "code",
   "execution_count": 72,
   "metadata": {},
   "outputs": [
    {
     "name": "stdout",
     "output_type": "stream",
     "text": [
      "All the keys and values are as follows\n",
      "Book Life\n",
      "language English\n",
      "Author Savan\n",
      "Year 2022\n"
     ]
    }
   ],
   "source": [
    "# print the keys and vlaues using items\n",
    "\n",
    "print('All the keys and values are as follows')\n",
    "\n",
    "for x,y in dict.items():\n",
    "    print(x,y)\n",
    "    "
   ]
  },
  {
   "cell_type": "markdown",
   "metadata": {},
   "source": [
    "## Copying Dictionary\n"
   ]
  },
  {
   "cell_type": "code",
   "execution_count": 1,
   "metadata": {},
   "outputs": [
    {
     "name": "stdout",
     "output_type": "stream",
     "text": [
      "{'Book': 'Life', 'language': 'English', 'Author': 'Savan', 'Year': '2022'}\n",
      "{'Book': 'Life', 'language': 'English', 'Author': 'Savan', 'Year': '2022'}\n",
      "{'Book': 'Pie', 'language': 'german', 'Author': 'Riken', 'Year': '2020'}\n"
     ]
    }
   ],
   "source": [
    "dict1 = {\n",
    "    'Book':'Life',\n",
    "  'language': 'English',\n",
    "    'Author':'Savan',\n",
    "    'Year':'2022'\n",
    "}\n",
    "\n",
    "print(dict1)\n",
    "\n",
    "\n",
    "dict3 = dict1.copy()\n",
    "print(dict3)\n",
    "\n",
    "\n",
    "#dict2 = dict(dict1)\n",
    "#print(dict2)\n",
    "\n",
    "\n",
    "dict4 = dict(Book = 'Pie', language = 'german', Author = 'Riken', Year = '2020')\n",
    "print(dict4)\n"
   ]
  },
  {
   "cell_type": "markdown",
   "metadata": {},
   "source": [
    "## Conditional statement"
   ]
  },
  {
   "cell_type": "code",
   "execution_count": null,
   "metadata": {},
   "outputs": [],
   "source": [
    "# if condition with if else and as well as using 'and' , 'or' cases"
   ]
  },
  {
   "cell_type": "code",
   "execution_count": 6,
   "metadata": {},
   "outputs": [
    {
     "name": "stdout",
     "output_type": "stream",
     "text": [
      "Tuesday\n"
     ]
    }
   ],
   "source": [
    "# working with switch case\n",
    "\n",
    "\n",
    "def week(i):\n",
    "    switcher = {\n",
    "        0:'Sunday',\n",
    "        1:'Monday',\n",
    "        2:'Tuesday'\n",
    "    }\n",
    "    return switcher.get (i,'invalid day of week')   \n",
    "\n",
    "print(week(2))"
   ]
  },
  {
   "cell_type": "code",
   "execution_count": 5,
   "metadata": {},
   "outputs": [
    {
     "name": "stdout",
     "output_type": "stream",
     "text": [
      "monday\n",
      "wednesday\n"
     ]
    }
   ],
   "source": [
    "# implement switch using dictionary\n",
    "\n",
    "def monday():\n",
    "    return 'monday' \n",
    "def tuesday():\n",
    "    return 'tuesday'\n",
    "def wednesday():\n",
    "    return 'wednesday'\n",
    "def thursday():\n",
    "    return 'thursday'\n",
    "def default():\n",
    "    return 'incorrect day'\n",
    "\n",
    "\n",
    "# define a dictionary\n",
    "\n",
    "switcher = {\n",
    "    1:monday,\n",
    "    2:tuesday,\n",
    "    3:wednesday,\n",
    "    4:thursday\n",
    "}\n",
    "\n",
    "def switch(dayOfWeek):\n",
    "    return switcher.get(dayOfWeek, default)()\n",
    "\n",
    "# driver a code\n",
    "\n",
    "print(switch(1))\n",
    "print(switch(3))\n"
   ]
  },
  {
   "cell_type": "markdown",
   "metadata": {},
   "source": [
    "## implement switch using classs"
   ]
  },
  {
   "cell_type": "code",
   "execution_count": 23,
   "metadata": {},
   "outputs": [
    {
     "name": "stdout",
     "output_type": "stream",
     "text": [
      "Monday\n",
      "wrong day of a week\n",
      "January\n"
     ]
    }
   ],
   "source": [
    "## Define a class\n",
    "\n",
    "class PythonSwitch:\n",
    "    def switch(self, dayOfWeek):\n",
    "        return getattr(self, 'case_'+ str(dayOfWeek), lambda:'wrong day of a week')()\n",
    "    def case_1(self):\n",
    "        return 'Monday'\n",
    "    def case_2(self):\n",
    "        return 'Tuesday'\n",
    "    def case_3(self):\n",
    "        return 'Wednesday'\n",
    "    \n",
    "    ## driver a code\n",
    "    \n",
    "p = PythonSwitch()\n",
    "print(p.switch(1))\n",
    "print(p.switch(0))\n",
    "    \n",
    "  #####################################################################\n",
    "\n",
    "\n",
    "class Switcher(object):\n",
    "    def numbers_to_months(self, argument):\n",
    "        \"\"\"Dispatch method\"\"\"\n",
    "        method_name = 'month_' + str(argument)\n",
    "        # Get the method from 'self'. Default to a lambda.\n",
    "        method = getattr(self, method_name, lambda: \"Invalid month\")\n",
    "        # Call the method as we return it\n",
    "        return method()\n",
    "\n",
    "    def month_1(self):\n",
    "        return \"January\"\n",
    "\n",
    "    def month_2(self):\n",
    "        return \"February\"\n",
    "\n",
    "    def month_3(self):\n",
    "        return \"March\"\n",
    "    \n",
    "  ##\n",
    "a = Switcher()\n",
    "print(a.numbers_to_months(1))\n",
    "\n",
    "\n",
    " "
   ]
  },
  {
   "cell_type": "code",
   "execution_count": 29,
   "metadata": {},
   "outputs": [
    {
     "name": "stdout",
     "output_type": "stream",
     "text": [
      "Monday\n",
      "Tuesday\n"
     ]
    }
   ],
   "source": [
    "  ## Changing the case in switch case\n",
    "    \n",
    "def case1():\n",
    "    return 'Monday'\n",
    "def case2():\n",
    "    return 'Tuesday'\n",
    "def case3():\n",
    "    return 'Wedneday'\n",
    "    \n",
    "    \n",
    "    ## define a dictionary\n",
    "    \n",
    "switcher = {\n",
    "        \n",
    "        1:case1,\n",
    "        2:case2,\n",
    "        3:case3\n",
    "    }\n",
    "    \n",
    "def num_to_str(arg):\n",
    "    func = switcher.get(arg, 'Invalid')\n",
    "        ## Executing a function \n",
    "        \n",
    "    return func()\n",
    "    \n",
    "print(num_to_str(1))\n",
    "    \n",
    "switcher[1]=case2\n",
    "print(num_to_str(1))\n",
    "\n",
    "    "
   ]
  },
  {
   "cell_type": "code",
   "execution_count": null,
   "metadata": {},
   "outputs": [],
   "source": []
  },
  {
   "cell_type": "markdown",
   "metadata": {},
   "source": [
    "##  USe of loop"
   ]
  },
  {
   "cell_type": "code",
   "execution_count": 1,
   "metadata": {},
   "outputs": [
    {
     "name": "stdout",
     "output_type": "stream",
     "text": [
      "this is right\n",
      "this is right\n",
      "this is right\n",
      "this is right\n",
      "Outside of loop\n"
     ]
    }
   ],
   "source": [
    "# for loop \n",
    "\n",
    "\n",
    "list1 = ['2', '5','8','10']\n",
    "list2 = ['a','b','c','d']\n",
    "\n",
    "for x in list1:\n",
    "    x=5;\n",
    "    print('this is right');\n",
    "    \n",
    "print('Outside of loop');\n"
   ]
  },
  {
   "cell_type": "code",
   "execution_count": 2,
   "metadata": {},
   "outputs": [
    {
     "name": "stdout",
     "output_type": "stream",
     "text": [
      "R\n",
      "i\n",
      "k\n",
      "e\n",
      "n\n",
      "you are outside of the loop\n",
      "2 a\n",
      "2 b\n",
      "2 c\n",
      "2 d\n",
      "5 a\n",
      "5 b\n",
      "5 c\n",
      "5 d\n",
      "8 a\n",
      "8 b\n",
      "8 c\n",
      "8 d\n",
      "10 a\n",
      "10 b\n",
      "10 c\n",
      "10 d\n",
      "again outside of the loop\n"
     ]
    }
   ],
   "source": [
    "## for loop with two conditions and strings\n",
    "\n",
    "\n",
    "\n",
    "for x in 'Riken':\n",
    "    print(x);\n",
    "    \n",
    "print('you are outside of the loop');\n",
    "\n",
    "\n",
    "for x in list1:\n",
    "    for y in list2:\n",
    "        print(x,y)\n",
    "print('again outside of the loop');\n"
   ]
  },
  {
   "cell_type": "code",
   "execution_count": 3,
   "metadata": {},
   "outputs": [
    {
     "name": "stdout",
     "output_type": "stream",
     "text": [
      "2\n",
      "5\n"
     ]
    }
   ],
   "source": [
    "##  for loop with the use of break and continue\n",
    "\n",
    "## use of break \n",
    "\n",
    "for x in list1:\n",
    "    print(x) \n",
    "    if x == '5':\n",
    "        break\n",
    "    \n",
    "      \n",
    "    \n",
    "    \n"
   ]
  },
  {
   "cell_type": "code",
   "execution_count": 4,
   "metadata": {},
   "outputs": [
    {
     "name": "stdout",
     "output_type": "stream",
     "text": [
      "2\n",
      "8\n",
      "10\n"
     ]
    }
   ],
   "source": [
    "## Use of continue \n",
    "        \n",
    "for x in list1:\n",
    "        if x =='5':\n",
    "            continue\n",
    "        print(x)"
   ]
  },
  {
   "cell_type": "code",
   "execution_count": 5,
   "metadata": {},
   "outputs": [
    {
     "name": "stdout",
     "output_type": "stream",
     "text": [
      "0\n",
      "1\n",
      "2\n",
      "3\n",
      "4\n"
     ]
    }
   ],
   "source": [
    "# using of range \n",
    "\n",
    "\n",
    "for x in range(5):\n",
    "    print(x)"
   ]
  },
  {
   "cell_type": "code",
   "execution_count": 6,
   "metadata": {},
   "outputs": [
    {
     "name": "stdout",
     "output_type": "stream",
     "text": [
      "1\n",
      "3\n",
      "5\n"
     ]
    }
   ],
   "source": [
    "for x in range(1,6,2):\n",
    "    print(x)\n",
    "    "
   ]
  },
  {
   "cell_type": "code",
   "execution_count": 7,
   "metadata": {},
   "outputs": [
    {
     "name": "stdout",
     "output_type": "stream",
     "text": [
      "1\n",
      "2\n",
      "3\n",
      "4\n",
      "5\n",
      "6\n",
      "7\n",
      "8\n",
      "9\n",
      "10\n",
      "11\n",
      "12\n",
      "13\n",
      "14\n"
     ]
    }
   ],
   "source": [
    "## use of while loop\n",
    "\n",
    "i=1;\n",
    "while i<15:\n",
    "    print(i)\n",
    "    i +=1;\n",
    "    "
   ]
  },
  {
   "cell_type": "code",
   "execution_count": 8,
   "metadata": {},
   "outputs": [
    {
     "name": "stdout",
     "output_type": "stream",
     "text": [
      "1\n",
      "2\n",
      "3\n",
      "4\n",
      "5\n",
      "6\n",
      "7\n",
      "8\n"
     ]
    }
   ],
   "source": [
    "## using break and continue \n",
    "i=1;\n",
    "while i<15:\n",
    "    print(i);\n",
    "    if i==8:\n",
    "        break\n",
    "    i +=1;"
   ]
  },
  {
   "cell_type": "code",
   "execution_count": null,
   "metadata": {},
   "outputs": [],
   "source": [
    "## continue\n",
    "\n",
    "\n",
    "i=1;\n",
    "while i<15:\n",
    "   \n",
    "    if i==8:\n",
    "        continue\n",
    "    print(i);\n",
    "    i +=1;"
   ]
  },
  {
   "cell_type": "code",
   "execution_count": 2,
   "metadata": {},
   "outputs": [
    {
     "name": "stdout",
     "output_type": "stream",
     "text": [
      "Hey! you are using a function defined by user\n"
     ]
    }
   ],
   "source": [
    "## use of function in python\n",
    "\n",
    "\n",
    "def func1():\n",
    "    print('Hey! you are using a function defined by user')\n",
    "\n",
    "func1()"
   ]
  },
  {
   "cell_type": "code",
   "execution_count": 6,
   "metadata": {},
   "outputs": [
    {
     "name": "stdout",
     "output_type": "stream",
     "text": [
      "Please enter your name to start a chat with you iik\n",
      "hello! iik\n"
     ]
    }
   ],
   "source": [
    "## function defined with inputs\n",
    "\n",
    "def func2(a):\n",
    "    print('hello!',  a);\n",
    "    \n",
    "input_name = input('Please enter your name to start a chat with you ')\n",
    "func2(input_name)"
   ]
  },
  {
   "cell_type": "code",
   "execution_count": 7,
   "metadata": {},
   "outputs": [
    {
     "name": "stdout",
     "output_type": "stream",
     "text": [
      "a:  10\n",
      "b:  20\n"
     ]
    }
   ],
   "source": [
    "## def fun\n",
    "\n",
    "def func3(a, b):\n",
    "    \n",
    "    print('a: ',a);\n",
    "    print('b: ',b);\n",
    "    \n",
    "func3(10,20)"
   ]
  },
  {
   "cell_type": "code",
   "execution_count": 68,
   "metadata": {},
   "outputs": [
    {
     "name": "stdout",
     "output_type": "stream",
     "text": [
      "enter positive no: 0\n",
      "0! = 1\n"
     ]
    }
   ],
   "source": [
    "## recurssive function\n",
    "\n",
    "def fact(n):\n",
    "    if n==1:\n",
    "        return n\n",
    "    else:\n",
    "        return  n*fact(n-1)\n",
    "    \n",
    "num=int(input('enter positive no: '))\n",
    "\n",
    "if num<0:\n",
    "    print('error!');\n",
    "elif num==0:\n",
    "    print('0! = 1');\n",
    "else:\n",
    "    fact(num)\n",
    "    print(num,'! = ' ,fact(num));"
   ]
  },
  {
   "cell_type": "code",
   "execution_count": 79,
   "metadata": {},
   "outputs": [
    {
     "name": "stdout",
     "output_type": "stream",
     "text": [
      "Hey! Riken . you look 22 years old\n"
     ]
    }
   ],
   "source": [
    "## Classes and Objects in Python\n",
    "\n",
    "class Demo:\n",
    "    def __init__(object,name,age):\n",
    "        object.name= name\n",
    "        object.age=age\n",
    "    def greeting(obj):\n",
    "        print('Hey!',obj.name,'. you look',str(obj.age),'years old')\n",
    "        \n",
    "# calling the class\n",
    "\n",
    "d = Demo(\"Riken\",22)\n",
    "d.greeting()"
   ]
  },
  {
   "cell_type": "code",
   "execution_count": 80,
   "metadata": {},
   "outputs": [
    {
     "name": "stdout",
     "output_type": "stream",
     "text": [
      "Hey! Riken\n",
      "you look 22 years old\n",
      "age successfully modified \n",
      "25\n"
     ]
    },
    {
     "ename": "AttributeError",
     "evalue": "'Demo' object has no attribute 'age'",
     "output_type": "error",
     "traceback": [
      "\u001b[1;31m---------------------------------------------------------------------------\u001b[0m",
      "\u001b[1;31mAttributeError\u001b[0m                            Traceback (most recent call last)",
      "\u001b[1;32m<ipython-input-80-b67cbdbfccb2>\u001b[0m in \u001b[0;36m<module>\u001b[1;34m\u001b[0m\n\u001b[0;32m     19\u001b[0m \u001b[1;33m\u001b[0m\u001b[0m\n\u001b[0;32m     20\u001b[0m \u001b[1;32mdel\u001b[0m \u001b[0md\u001b[0m\u001b[1;33m.\u001b[0m\u001b[0mage\u001b[0m\u001b[1;33m\u001b[0m\u001b[1;33m\u001b[0m\u001b[0m\n\u001b[1;32m---> 21\u001b[1;33m \u001b[0mprint\u001b[0m\u001b[1;33m(\u001b[0m\u001b[0md\u001b[0m\u001b[1;33m.\u001b[0m\u001b[0mage\u001b[0m\u001b[1;33m)\u001b[0m \u001b[1;31m# should showing an error!\u001b[0m\u001b[1;33m\u001b[0m\u001b[1;33m\u001b[0m\u001b[0m\n\u001b[0m\u001b[0;32m     22\u001b[0m \u001b[1;33m\u001b[0m\u001b[0m\n",
      "\u001b[1;31mAttributeError\u001b[0m: 'Demo' object has no attribute 'age'"
     ]
    }
   ],
   "source": [
    "\n",
    "class Demo:\n",
    "    def __init__(object,name,age):\n",
    "        object.name= name\n",
    "        object.age=age\n",
    "    def greeting(obj):\n",
    "        print('Hey!',obj.name)\n",
    "        \n",
    "# calling the class\n",
    "\n",
    "# age define modify and deleted\n",
    "\n",
    "d = Demo(\"Riken\",22)\n",
    "d.greeting()\n",
    "print('you look', d.age, 'years old')\n",
    "\n",
    "d.age =25;\n",
    "print('age successfully modified ');\n",
    "print(d.age)\n",
    "\n",
    "del d.age\n",
    "print(d.age) # should showing an error!\n",
    "\n"
   ]
  },
  {
   "cell_type": "markdown",
   "metadata": {},
   "source": [
    " Working with Inheritance in Python"
   ]
  },
  {
   "cell_type": "code",
   "execution_count": 102,
   "metadata": {},
   "outputs": [
    {
     "name": "stdout",
     "output_type": "stream",
     "text": [
      "A\n",
      "C\n",
      "A\n",
      "B\n",
      "A\n",
      "B\n",
      "C\n",
      "D\n"
     ]
    }
   ],
   "source": [
    "\n",
    "# class A \n",
    "\n",
    "class A:\n",
    "    def funcA(object):\n",
    "         print('A');\n",
    "class B(A):\n",
    "    def funcB(object):\n",
    "        print('B');\n",
    "class C(A):\n",
    "    def funcC(object):\n",
    "        print('C');\n",
    "class D(B,C):\n",
    "    def funcD(object):            #why it shows that not defined class\n",
    "        print('D');      \n",
    "    \n",
    "    \n",
    "    ### driving a code\n",
    "    \n",
    "#     c = C()\n",
    "#     c.funcA()\n",
    "#     c.funcC()\n",
    "    \n",
    "#     b = B()\n",
    "#     b.funcA()\n",
    "#     b.funcB()\n",
    "    \n",
    "d = D()\n",
    "d.funcA()\n",
    "d.funcB()\n",
    "d.funcC()\n",
    "d.funcD()"
   ]
  },
  {
   "cell_type": "code",
   "execution_count": 98,
   "metadata": {},
   "outputs": [],
   "source": [
    "##  Exception Handling in Python\n"
   ]
  },
  {
   "cell_type": "code",
   "execution_count": 107,
   "metadata": {},
   "outputs": [
    {
     "name": "stdout",
     "output_type": "stream",
     "text": [
      "ZeroDivisionError\n"
     ]
    }
   ],
   "source": [
    "try:\n",
    "    a=3;\n",
    "    if a<5:\n",
    "        b=a/(a-3);\n",
    "        print('value of b is',b)\n",
    "except ZeroDivisionError:\n",
    "    print('ZeroDivisionError');"
   ]
  },
  {
   "cell_type": "code",
   "execution_count": 115,
   "metadata": {},
   "outputs": [],
   "source": [
    "try:\n",
    "    a =6;\n",
    "    if a<5:\n",
    "        b=a/(a-3);\n",
    "        print(b);\n",
    "except (RuntimeError, TypeError, NameError, ZeroDivisionError, NameError):\n",
    "    print('error')"
   ]
  },
  {
   "cell_type": "code",
   "execution_count": 116,
   "metadata": {},
   "outputs": [
    {
     "name": "stdout",
     "output_type": "stream",
     "text": [
      "elase excuted\n"
     ]
    }
   ],
   "source": [
    "try:\n",
    "    y=1;\n",
    "    if y>2:\n",
    "        print('true');\n",
    "except:\n",
    "    print('error');\n",
    "else:\n",
    "    print('elase excuted');"
   ]
  },
  {
   "cell_type": "code",
   "execution_count": 124,
   "metadata": {},
   "outputs": [
    {
     "name": "stdout",
     "output_type": "stream",
     "text": [
      "enter the value of cvs86t\n",
      "ERROR!\n",
      "Entered input is not a number\n"
     ]
    }
   ],
   "source": [
    "try:\n",
    "    c = int(input('enter the value of c'));\n",
    "    print('value of c',c);\n",
    "    \n",
    "\n",
    "except (ValueError,NameError):\n",
    "    print('ERROR!');\n",
    "    print('Entered input is not a number');\n",
    "\n",
    "    \n",
    "    "
   ]
  },
  {
   "cell_type": "raw",
   "metadata": {},
   "source": []
  },
  {
   "cell_type": "code",
   "execution_count": 127,
   "metadata": {},
   "outputs": [
    {
     "name": "stdout",
     "output_type": "stream",
     "text": [
      "Raise error excuted\n"
     ]
    }
   ],
   "source": [
    "## raise an error!\n",
    "\n",
    "try:\n",
    "    raise NameError('hello,It is generated for raising an error')\n",
    "except NameError:\n",
    "    print('Raise error excuted')"
   ]
  },
  {
   "cell_type": "code",
   "execution_count": 128,
   "metadata": {},
   "outputs": [
    {
     "name": "stdout",
     "output_type": "stream",
     "text": [
      "B\n",
      "C\n",
      "D\n"
     ]
    }
   ],
   "source": [
    "class B(Exception):\n",
    "    pass\n",
    "\n",
    "class C(B):\n",
    "    pass\n",
    "\n",
    "class D(C):\n",
    "    pass\n",
    "\n",
    "for cls in [B, C, D]:\n",
    "    try:\n",
    "        raise cls()\n",
    "    except D:\n",
    "        print(\"D\")\n",
    "    except C:\n",
    "        print(\"C\")\n",
    "    except B:\n",
    "        print(\"B\")"
   ]
  },
  {
   "cell_type": "code",
   "execution_count": null,
   "metadata": {},
   "outputs": [],
   "source": [
    "##  File Handling in Python"
   ]
  },
  {
   "cell_type": "code",
   "execution_count": 1,
   "metadata": {},
   "outputs": [],
   "source": [
    "import os \n",
    "f1 = open('demo.txt','w')"
   ]
  },
  {
   "cell_type": "code",
   "execution_count": 4,
   "metadata": {},
   "outputs": [
    {
     "name": "stdout",
     "output_type": "stream",
     "text": [
      "file is available\n"
     ]
    }
   ],
   "source": [
    "import os \n",
    "if os.path.exists('demo.txt'):\n",
    "    print('file is available')\n",
    "else:\n",
    "    print('not exist')\n"
   ]
  },
  {
   "cell_type": "code",
   "execution_count": 33,
   "metadata": {},
   "outputs": [
    {
     "name": "stdout",
     "output_type": "stream",
     "text": [
      "New lissst addedList added \n",
      "\n",
      "file is overwritten\n",
      "New lissst added\n"
     ]
    },
    {
     "data": {
      "text/plain": [
       "<function TextIOWrapper.close()>"
      ]
     },
     "execution_count": 33,
     "metadata": {},
     "output_type": "execute_result"
    }
   ],
   "source": [
    "f1 = open('demo.txt','a')\n",
    "f1.write('List added \\n')\n",
    "f1.close\n",
    "\n",
    "f1 = open('demo.txt','r')\n",
    "print(f1.read())\n",
    "\n",
    "f1 = open('demo.txt','w')\n",
    "print('file is overwritten')\n",
    "f1.close\n",
    "\n",
    "f1 = open('demo.txt','a')\n",
    "f1.write('New lissst added')\n",
    "f1. close\n",
    "\n",
    "f1 = open('demo.txt','r')\n",
    "print(f1.read())\n",
    "f1.close\n"
   ]
  },
  {
   "cell_type": "code",
   "execution_count": 31,
   "metadata": {},
   "outputs": [],
   "source": [
    "##split file\n",
    "\n",
    "with open(\"demo.txt\",'r') as file:\n",
    "    data = file.readlines()\n",
    "    for line in data:\n",
    "            print(line.split())\n",
    " \n",
    "            \n",
    "        "
   ]
  },
  {
   "cell_type": "code",
   "execution_count": 34,
   "metadata": {},
   "outputs": [
    {
     "ename": "PermissionError",
     "evalue": "[WinError 32] The process cannot access the file because it is being used by another process: 'demo.txt' -> 'demore.txt'",
     "output_type": "error",
     "traceback": [
      "\u001b[1;31m---------------------------------------------------------------------------\u001b[0m",
      "\u001b[1;31mPermissionError\u001b[0m                           Traceback (most recent call last)",
      "\u001b[1;32m<ipython-input-34-97251f1e14ca>\u001b[0m in \u001b[0;36m<module>\u001b[1;34m\u001b[0m\n\u001b[0;32m      2\u001b[0m \u001b[1;33m\u001b[0m\u001b[0m\n\u001b[0;32m      3\u001b[0m \u001b[0mos\u001b[0m\u001b[1;33m.\u001b[0m\u001b[0msystem\u001b[0m\u001b[1;33m(\u001b[0m\u001b[1;34m'copy demo.text democopy.txt'\u001b[0m\u001b[1;33m)\u001b[0m\u001b[1;33m\u001b[0m\u001b[1;33m\u001b[0m\u001b[0m\n\u001b[1;32m----> 4\u001b[1;33m \u001b[0mos\u001b[0m\u001b[1;33m.\u001b[0m\u001b[0mrename\u001b[0m\u001b[1;33m(\u001b[0m\u001b[1;34m'demo.txt'\u001b[0m\u001b[1;33m,\u001b[0m\u001b[1;34m'demore.txt'\u001b[0m\u001b[1;33m)\u001b[0m\u001b[1;33m\u001b[0m\u001b[1;33m\u001b[0m\u001b[0m\n\u001b[0m",
      "\u001b[1;31mPermissionError\u001b[0m: [WinError 32] The process cannot access the file because it is being used by another process: 'demo.txt' -> 'demore.txt'"
     ]
    }
   ],
   "source": [
    "## rename and copy of file\n",
    "\n",
    "os.system('copy demo.text democopy.txt')\n",
    "os.rename('demo.txt','demore.txt')"
   ]
  }
 ],
 "metadata": {
  "kernelspec": {
   "display_name": "Python 3",
   "language": "python",
   "name": "python3"
  },
  "language_info": {
   "codemirror_mode": {
    "name": "ipython",
    "version": 3
   },
   "file_extension": ".py",
   "mimetype": "text/x-python",
   "name": "python",
   "nbconvert_exporter": "python",
   "pygments_lexer": "ipython3",
   "version": "3.8.3"
  }
 },
 "nbformat": 4,
 "nbformat_minor": 4
}
