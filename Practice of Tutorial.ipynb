{
 "cells": [
  {
   "cell_type": "markdown",
   "metadata": {},
   "source": [
    "## Introduction "
   ]
  },
  {
   "cell_type": "code",
   "execution_count": 49,
   "metadata": {},
   "outputs": [
    {
     "name": "stdout",
     "output_type": "stream",
     "text": [
      "['Hello', ' World']\n"
     ]
    }
   ],
   "source": [
    "a = 'Hello: World'\n",
    "print(a.split(':'))"
   ]
  },
  {
   "cell_type": "code",
   "execution_count": 50,
   "metadata": {},
   "outputs": [
    {
     "name": "stdout",
     "output_type": "stream",
     "text": [
      "el\n"
     ]
    }
   ],
   "source": [
    "print(a[1:3])"
   ]
  },
  {
   "cell_type": "code",
   "execution_count": 51,
   "metadata": {},
   "outputs": [
    {
     "name": "stdout",
     "output_type": "stream",
     "text": [
      "    hi Riken    \n",
      "hi Riken\n"
     ]
    }
   ],
   "source": [
    "b = '    hi Riken    '\n",
    "print(b)\n",
    "print(b.strip()) #removes prefix and postfix whitespaces\n"
   ]
  },
  {
   "cell_type": "code",
   "execution_count": 52,
   "metadata": {},
   "outputs": [
    {
     "name": "stdout",
     "output_type": "stream",
     "text": [
      "    Hi Riken    \n"
     ]
    }
   ],
   "source": [
    "print(b.replace('h', 'H'))"
   ]
  },
  {
   "cell_type": "code",
   "execution_count": 53,
   "metadata": {},
   "outputs": [
    {
     "name": "stdout",
     "output_type": "stream",
     "text": [
      "    hi riken    \n"
     ]
    }
   ],
   "source": [
    "print(b.lower())"
   ]
  },
  {
   "cell_type": "code",
   "execution_count": 54,
   "metadata": {},
   "outputs": [
    {
     "name": "stdout",
     "output_type": "stream",
     "text": [
      "    HI RIKEN    \n"
     ]
    }
   ],
   "source": [
    "print(b.upper())"
   ]
  },
  {
   "cell_type": "code",
   "execution_count": 55,
   "metadata": {},
   "outputs": [
    {
     "name": "stdout",
     "output_type": "stream",
     "text": [
      "0\n"
     ]
    }
   ],
   "source": [
    "print(b.count('I'))"
   ]
  },
  {
   "cell_type": "code",
   "execution_count": null,
   "metadata": {},
   "outputs": [],
   "source": []
  },
  {
   "cell_type": "code",
   "execution_count": 56,
   "metadata": {},
   "outputs": [
    {
     "name": "stdout",
     "output_type": "stream",
     "text": [
      "['1', '2', '3', '4', '5']\n",
      "5\n",
      "['1', '2', '0', '4', '5']\n",
      "['1', '2', '0', 'A', '4', '5']\n",
      "['1', '2', '0', 'A', '4', '5', '6']\n"
     ]
    }
   ],
   "source": [
    "list = ['1', '2','3','4','5']\n",
    "print(list)\n",
    "\n",
    "print(len(list))\n",
    "\n",
    "list[2] = '0'\n",
    "print(list)\n",
    "\n",
    "list.insert(3,'A')\n",
    "print(list)\n",
    "\n",
    "list.append('6')\n",
    "print(list)"
   ]
  },
  {
   "cell_type": "markdown",
   "metadata": {},
   "source": [
    "## Removing an element from the list "
   ]
  },
  {
   "cell_type": "code",
   "execution_count": 57,
   "metadata": {},
   "outputs": [
    {
     "name": "stdout",
     "output_type": "stream",
     "text": [
      "['1', '2', '3', '4', '5']\n"
     ]
    }
   ],
   "source": [
    "list = ['1', '2','3','4','5']\n",
    "list.clear\n",
    "print(list)"
   ]
  },
  {
   "cell_type": "code",
   "execution_count": 58,
   "metadata": {},
   "outputs": [
    {
     "name": "stdout",
     "output_type": "stream",
     "text": [
      "<class 'list'>\n"
     ]
    }
   ],
   "source": [
    "list = ['1', '2','3','4','5']\n",
    "del list\n",
    "print(list)"
   ]
  },
  {
   "cell_type": "code",
   "execution_count": 59,
   "metadata": {},
   "outputs": [
    {
     "name": "stdout",
     "output_type": "stream",
     "text": [
      "{'2'}\n"
     ]
    }
   ],
   "source": [
    "set = {'1','2'}\n",
    "set.remove('1')\n",
    "print(set)"
   ]
  },
  {
   "cell_type": "code",
   "execution_count": 60,
   "metadata": {},
   "outputs": [
    {
     "name": "stdout",
     "output_type": "stream",
     "text": [
      "set()\n"
     ]
    }
   ],
   "source": [
    "set.discard('2')\n",
    "print(set)"
   ]
  },
  {
   "cell_type": "code",
   "execution_count": 61,
   "metadata": {},
   "outputs": [
    {
     "name": "stdout",
     "output_type": "stream",
     "text": [
      "1\n",
      "{'2'}\n",
      "5\n",
      "['1', '2', '3', '4']\n"
     ]
    }
   ],
   "source": [
    "set = {'1','2'}\n",
    "ri = set.pop()\n",
    "print(ri)\n",
    "print(set)\n",
    "\n",
    "list = ['1', '2','3','4','5']\n",
    "ri2 = list.pop()\n",
    "print(ri2)\n",
    "print(list)"
   ]
  },
  {
   "cell_type": "markdown",
   "metadata": {},
   "source": [
    "## creating Dictionaries"
   ]
  },
  {
   "cell_type": "code",
   "execution_count": 62,
   "metadata": {},
   "outputs": [
    {
     "name": "stdout",
     "output_type": "stream",
     "text": [
      "{'Book': 'Life', 'language': 'English', 'Author': 'Savan', 'Year': '2022'}\n"
     ]
    }
   ],
   "source": [
    "dict = {\n",
    "    'Book':'Life',\n",
    "  'language': 'English',\n",
    "    'Author':'Savan',\n",
    "    'Year':'2022'\n",
    "}\n",
    "\n",
    "print(dict)"
   ]
  },
  {
   "cell_type": "code",
   "execution_count": 63,
   "metadata": {},
   "outputs": [
    {
     "name": "stdout",
     "output_type": "stream",
     "text": [
      "Life\n"
     ]
    }
   ],
   "source": [
    "# access the value using array\n",
    "\n",
    "print( dict['Book'] )\n"
   ]
  },
  {
   "cell_type": "code",
   "execution_count": 64,
   "metadata": {},
   "outputs": [
    {
     "name": "stdout",
     "output_type": "stream",
     "text": [
      "English\n"
     ]
    }
   ],
   "source": [
    "# access the value using get\n",
    "\n",
    "print(dict.get('language') )\n",
    "\n"
   ]
  },
  {
   "cell_type": "code",
   "execution_count": 65,
   "metadata": {},
   "outputs": [
    {
     "name": "stdout",
     "output_type": "stream",
     "text": [
      "{'Book': 'Life', 'language': 'English', 'Author': 'Savan', 'Year': '2021'}\n"
     ]
    }
   ],
   "source": [
    "# replace the value\n",
    "\n",
    "dict['Year'] = '2021'\n",
    "print(dict)"
   ]
  },
  {
   "cell_type": "code",
   "execution_count": 66,
   "metadata": {},
   "outputs": [
    {
     "name": "stdout",
     "output_type": "stream",
     "text": [
      "{'Book': 'Life', 'language': 'English', 'Author': 'Savan', 'Year': '2021', 'Type': 'Philosophy'}\n"
     ]
    }
   ],
   "source": [
    " # adding new feature\n",
    "    \n",
    "dict['Type'] = 'Philosophy'\n",
    "print(dict)"
   ]
  },
  {
   "cell_type": "code",
   "execution_count": 67,
   "metadata": {},
   "outputs": [
    {
     "name": "stdout",
     "output_type": "stream",
     "text": [
      "yes\n"
     ]
    }
   ],
   "source": [
    "# using condition\n",
    "\n",
    "if 'language' in dict:\n",
    "    print('yes')"
   ]
  },
  {
   "cell_type": "markdown",
   "metadata": {},
   "source": [
    "## Loop throgh Dictionary"
   ]
  },
  {
   "cell_type": "code",
   "execution_count": 68,
   "metadata": {},
   "outputs": [
    {
     "name": "stdout",
     "output_type": "stream",
     "text": [
      "{'Book': 'Life', 'language': 'English', 'Author': 'Savan', 'Year': '2022'}\n"
     ]
    }
   ],
   "source": [
    "# define dictionary\n",
    "\n",
    "dict = {\n",
    "    'Book':'Life',\n",
    "  'language': 'English',\n",
    "    'Author':'Savan',\n",
    "    'Year':'2022'\n",
    "}\n",
    "\n",
    "print(dict)\n"
   ]
  },
  {
   "cell_type": "code",
   "execution_count": 69,
   "metadata": {},
   "outputs": [
    {
     "name": "stdout",
     "output_type": "stream",
     "text": [
      "All the keys are as follows\n",
      "Book\n",
      "language\n",
      "Author\n",
      "Year\n"
     ]
    }
   ],
   "source": [
    "# print the keys\n",
    "\n",
    "print('All the keys are as follows')\n",
    "for x in dict:\n",
    "    print(x)\n",
    "    "
   ]
  },
  {
   "cell_type": "code",
   "execution_count": 70,
   "metadata": {},
   "outputs": [
    {
     "name": "stdout",
     "output_type": "stream",
     "text": [
      "All the values are as follows\n",
      "Life\n",
      "English\n",
      "Savan\n",
      "2022\n"
     ]
    }
   ],
   "source": [
    "# print the values\n",
    "\n",
    "print('All the values are as follows')\n",
    "for x in dict:\n",
    "    print(dict[x])\n",
    "    "
   ]
  },
  {
   "cell_type": "code",
   "execution_count": 71,
   "metadata": {},
   "outputs": [
    {
     "name": "stdout",
     "output_type": "stream",
     "text": [
      "All the values are as follows\n",
      "Life\n",
      "English\n",
      "Savan\n",
      "2022\n"
     ]
    }
   ],
   "source": [
    "# another method to print value\n",
    "\n",
    "print('All the values are as follows')\n",
    "for x in dict.values():\n",
    "    print(x)\n",
    "    \n",
    "    "
   ]
  },
  {
   "cell_type": "code",
   "execution_count": 72,
   "metadata": {},
   "outputs": [
    {
     "name": "stdout",
     "output_type": "stream",
     "text": [
      "All the keys and values are as follows\n",
      "Book Life\n",
      "language English\n",
      "Author Savan\n",
      "Year 2022\n"
     ]
    }
   ],
   "source": [
    "# print the keys and vlaues using items\n",
    "\n",
    "print('All the keys and values are as follows')\n",
    "\n",
    "for x,y in dict.items():\n",
    "    print(x,y)\n",
    "    "
   ]
  },
  {
   "cell_type": "markdown",
   "metadata": {},
   "source": [
    "## Copying Dictionary\n"
   ]
  },
  {
   "cell_type": "code",
   "execution_count": 1,
   "metadata": {},
   "outputs": [
    {
     "name": "stdout",
     "output_type": "stream",
     "text": [
      "{'Book': 'Life', 'language': 'English', 'Author': 'Savan', 'Year': '2022'}\n",
      "{'Book': 'Life', 'language': 'English', 'Author': 'Savan', 'Year': '2022'}\n",
      "{'Book': 'Pie', 'language': 'german', 'Author': 'Riken', 'Year': '2020'}\n"
     ]
    }
   ],
   "source": [
    "dict1 = {\n",
    "    'Book':'Life',\n",
    "  'language': 'English',\n",
    "    'Author':'Savan',\n",
    "    'Year':'2022'\n",
    "}\n",
    "\n",
    "print(dict1)\n",
    "\n",
    "\n",
    "dict3 = dict1.copy()\n",
    "print(dict3)\n",
    "\n",
    "\n",
    "#dict2 = dict(dict1)\n",
    "#print(dict2)\n",
    "\n",
    "\n",
    "dict4 = dict(Book = 'Pie', language = 'german', Author = 'Riken', Year = '2020')\n",
    "print(dict4)\n"
   ]
  },
  {
   "cell_type": "markdown",
   "metadata": {},
   "source": [
    "## Conditional statement"
   ]
  },
  {
   "cell_type": "code",
   "execution_count": null,
   "metadata": {},
   "outputs": [],
   "source": [
    "# if condition with if else and as well as using 'and' , 'or' cases"
   ]
  },
  {
   "cell_type": "code",
   "execution_count": 6,
   "metadata": {},
   "outputs": [
    {
     "name": "stdout",
     "output_type": "stream",
     "text": [
      "Tuesday\n"
     ]
    }
   ],
   "source": [
    "# working with switch case\n",
    "\n",
    "\n",
    "def week(i):\n",
    "    switcher = {\n",
    "        0:'Sunday',\n",
    "        1:'Monday',\n",
    "        2:'Tuesday'\n",
    "    }\n",
    "    return switcher.get (i,'invalid day of week')   \n",
    "\n",
    "print(week(2))"
   ]
  },
  {
   "cell_type": "code",
   "execution_count": 5,
   "metadata": {},
   "outputs": [
    {
     "name": "stdout",
     "output_type": "stream",
     "text": [
      "monday\n",
      "wednesday\n"
     ]
    }
   ],
   "source": [
    "# implement switch using dictionary\n",
    "\n",
    "def monday():\n",
    "    return 'monday' \n",
    "def tuesday():\n",
    "    return 'tuesday'\n",
    "def wednesday():\n",
    "    return 'wednesday'\n",
    "def thursday():\n",
    "    return 'thursday'\n",
    "def default():\n",
    "    return 'incorrect day'\n",
    "\n",
    "\n",
    "# define a dictionary\n",
    "\n",
    "switcher = {\n",
    "    1:monday,\n",
    "    2:tuesday,\n",
    "    3:wednesday,\n",
    "    4:thursday\n",
    "}\n",
    "\n",
    "def switch(dayOfWeek):\n",
    "    return switcher.get(dayOfWeek, default)()\n",
    "\n",
    "# driver a code\n",
    "\n",
    "print(switch(1))\n",
    "print(switch(3))\n"
   ]
  },
  {
   "cell_type": "markdown",
   "metadata": {},
   "source": [
    "## implement switch using classs"
   ]
  },
  {
   "cell_type": "code",
   "execution_count": 23,
   "metadata": {},
   "outputs": [
    {
     "name": "stdout",
     "output_type": "stream",
     "text": [
      "Monday\n",
      "wrong day of a week\n",
      "January\n"
     ]
    }
   ],
   "source": [
    "## Define a class\n",
    "\n",
    "class PythonSwitch:\n",
    "    def switch(self, dayOfWeek):\n",
    "        return getattr(self, 'case_'+ str(dayOfWeek), lambda:'wrong day of a week')()\n",
    "    def case_1(self):\n",
    "        return 'Monday'\n",
    "    def case_2(self):\n",
    "        return 'Tuesday'\n",
    "    def case_3(self):\n",
    "        return 'Wednesday'\n",
    "    \n",
    "    ## driver a code\n",
    "    \n",
    "p = PythonSwitch()\n",
    "print(p.switch(1))\n",
    "print(p.switch(0))\n",
    "    \n",
    "  #####################################################################\n",
    "\n",
    "\n",
    "class Switcher(object):\n",
    "    def numbers_to_months(self, argument):\n",
    "        \"\"\"Dispatch method\"\"\"\n",
    "        method_name = 'month_' + str(argument)\n",
    "        # Get the method from 'self'. Default to a lambda.\n",
    "        method = getattr(self, method_name, lambda: \"Invalid month\")\n",
    "        # Call the method as we return it\n",
    "        return method()\n",
    "\n",
    "    def month_1(self):\n",
    "        return \"January\"\n",
    "\n",
    "    def month_2(self):\n",
    "        return \"February\"\n",
    "\n",
    "    def month_3(self):\n",
    "        return \"March\"\n",
    "    \n",
    "  ##\n",
    "a = Switcher()\n",
    "print(a.numbers_to_months(1))\n",
    "\n",
    "\n",
    " "
   ]
  },
  {
   "cell_type": "code",
   "execution_count": 29,
   "metadata": {},
   "outputs": [
    {
     "name": "stdout",
     "output_type": "stream",
     "text": [
      "Monday\n",
      "Tuesday\n"
     ]
    }
   ],
   "source": [
    "  ## Changing the case in switch case\n",
    "    \n",
    "def case1():\n",
    "    return 'Monday'\n",
    "def case2():\n",
    "    return 'Tuesday'\n",
    "def case3():\n",
    "    return 'Wedneday'\n",
    "    \n",
    "    \n",
    "    ## define a dictionary\n",
    "    \n",
    "switcher = {\n",
    "        \n",
    "        1:case1,\n",
    "        2:case2,\n",
    "        3:case3\n",
    "    }\n",
    "    \n",
    "def num_to_str(arg):\n",
    "    func = switcher.get(arg, 'Invalid')\n",
    "        ## Executing a function \n",
    "        \n",
    "    return func()\n",
    "    \n",
    "print(num_to_str(1))\n",
    "    \n",
    "switcher[1]=case2\n",
    "print(num_to_str(1))\n",
    "\n",
    "    "
   ]
  },
  {
   "cell_type": "code",
   "execution_count": null,
   "metadata": {},
   "outputs": [],
   "source": []
  },
  {
   "cell_type": "code",
   "execution_count": null,
   "metadata": {},
   "outputs": [],
   "source": []
  }
 ],
 "metadata": {
  "kernelspec": {
   "display_name": "Python 3",
   "language": "python",
   "name": "python3"
  },
  "language_info": {
   "codemirror_mode": {
    "name": "ipython",
    "version": 3
   },
   "file_extension": ".py",
   "mimetype": "text/x-python",
   "name": "python",
   "nbconvert_exporter": "python",
   "pygments_lexer": "ipython3",
   "version": "3.8.3"
  }
 },
 "nbformat": 4,
 "nbformat_minor": 4
}


## for loop 


list1 = ['2', '5','8','10']
list2 = ['a','b','c','d']

for x in list1:
    x=5;
    print('this is right');
    
print('Outside of loop');

## for loop with two conditions and strings



for x in 'Riken':
    print(x);
    
print('you are outside of the loop');


for x in list1:
    for y in list2:
        print(x,y)
print('again outside of the loop');


##  for loop with the use of break and continue

## use of break 

for x in list1:
    print(x) 
    if x =='5':
        break
      
    
    
## Use of continue 
        
for x in list1:
        if x =='5':
            continue
        print(x)

##nmbkjbkm hjnnjkbjhb
bkjn


#j n

lb
nlkn
bjn
